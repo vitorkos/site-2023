{
 "cells": [
  {
   "cell_type": "code",
   "execution_count": null,
   "metadata": {},
   "outputs": [],
   "source": [
    "##https://github.com/InFoCusp/tf_cnnvis\n",
    "\n",
    "##https://github.com/vdumoulin/conv_arithmetic"
   ]
  },
  {
   "cell_type": "code",
   "execution_count": null,
   "metadata": {},
   "outputs": [],
   "source": [
    "##including libs\n",
    "\n",
    "import numpy as np\n",
    "import keras\n",
    "import tensorflow as tf\n",
    "import matplotlib.pyplot as plt\n",
    "from sklearn.model_selection import train_test_split\n",
    "from keras.callbacks import ModelCheckpoint\n",
    "from tensorflow.keras.models import load_model"
   ]
  },
  {
   "cell_type": "code",
   "execution_count": null,
   "metadata": {},
   "outputs": [],
   "source": [
    "## load and prepare the data base Fashion MNIST\n",
    "\n",
    "fashion_mnist = keras.datasets.fashion_mnist\n",
    "(train_images, train_labels), (test_images, test_labels) = fashion_mnist.load_data()"
   ]
  },
  {
   "cell_type": "code",
   "execution_count": null,
   "metadata": {},
   "outputs": [],
   "source": [
    "train_images = train_images/ 255.0\n",
    "test_images = test_images / 255.0"
   ]
  },
  {
   "cell_type": "code",
   "execution_count": null,
   "metadata": {},
   "outputs": [],
   "source": [
    "class_names=[\n",
    "    'T-shirt/top', 'Trouser', 'Pullover', 'Dress', 'Coat',\n",
    "    'Sandal', 'Shirt', 'Sneaker', 'Bag', 'Ankle boot'\n",
    "]"
   ]
  },
  {
   "cell_type": "code",
   "execution_count": null,
   "metadata": {},
   "outputs": [],
   "source": [
    "plt.figure(figsize=(10, 10))\n",
    "for i in range(25):\n",
    "  plt.subplot(5,5,i+1)\n",
    "  plt.xticks([])\n",
    "  plt.yticks([])\n",
    "  plt.grid(False)\n",
    "  plt.imshow(train_images[i], cmap=plt.cm.binary)\n",
    "  plt.xlabel(class_names[train_labels[i]])\n",
    "plt.show()"
   ]
  },
  {
   "cell_type": "code",
   "execution_count": null,
   "metadata": {},
   "outputs": [],
   "source": [
    "## Definir o modelo CNN\n",
    "\n",
    "model = keras.Sequential([\n",
    "    keras.layers.Conv2D(8, kernel_size=(3,3), activation='relu', input_shape=(28,28,1)),\n",
    "    keras.layers.MaxPooling2D(pool_size=(2,2)),\n",
    "    keras.layers.Flatten(),\n",
    "    keras.layers.Dense(32,activation='relu'),\n",
    "    keras.layers.Dense(10, activation='softmax')\n",
    "])"
   ]
  },
  {
   "cell_type": "code",
   "execution_count": null,
   "metadata": {},
   "outputs": [],
   "source": [
    "## compilar o modelo\n",
    "\n",
    "model.compile(optimizer='adam', loss='sparse_categorical_crossentropy',\n",
    "              metrics=['accuracy'])"
   ]
  },
  {
   "cell_type": "code",
   "execution_count": null,
   "metadata": {},
   "outputs": [],
   "source": [
    "## treinar o modelo\n",
    "\n",
    "train_images = train_images[:,:,:,np.newaxis]\n",
    "mc = ModelCheckpoint('model.h5', monitor='val_accuracy', mode='max', verbose=1,\n",
    "                     save_best_only=True)\n",
    "history = model.fit(train_images, train_labels, epochs=10, validation_split=0.2, callbacks=[mc])"
   ]
  },
  {
   "cell_type": "code",
   "execution_count": null,
   "metadata": {},
   "outputs": [],
   "source": [
    "## extraindo historicos de metricas do treinamento\n",
    "\n",
    "train_loss = history.history['loss']#perda do trinamento\n",
    "train_acc = history.history['accuracy']#acuracia de treinamento\n",
    "valid_loss = history.history['val_loss']#perda de validação\n",
    "valid_acc = history.history['val_accuracy']#acuracia da validação"
   ]
  },
  {
   "cell_type": "code",
   "execution_count": null,
   "metadata": {},
   "outputs": [],
   "source": [
    "# função para plotar as curvas de aprendizado\n",
    "\n",
    "def save_plots(train_acc, valid_acc, train_loss, valid_loss):\n",
    "  plt.figure(figsize=(12,9))\n",
    "  plt.plot(train_acc, color='green', linestyle='-', label='train accuracy')\n",
    "  plt.plot(valid_acc, color='blue', linestyle='-', label='validation accuracy')\n",
    "  plt.xlabel('epochs')\n",
    "  plt.ylabel('accuracy')\n",
    "  plt.legend()\n",
    "  plt.savefig('accuracy.png')\n",
    "  plt.show()\n",
    "\n",
    "  plt.figure(figsize=(12,9))\n",
    "  plt.plot(train_loss, color='orange', linestyle='-', label='train loss')\n",
    "  plt.plot(valid_loss, color='red', linestyle='-', label='validation loss')\n",
    "  plt.xlabel('epochs')\n",
    "  plt.ylabel('loss')\n",
    "  plt.legend()\n",
    "  plt.savefig('loss.png')\n",
    "  plt.show()\n",
    "\n",
    "save_plots(train_acc, valid_acc, train_loss, valid_loss)"
   ]
  },
  {
   "cell_type": "code",
   "execution_count": null,
   "metadata": {},
   "outputs": [],
   "source": [
    "# avaliar o modelo com os dados de teste\n",
    "\n",
    "model = load_model('model.h5')\n",
    "test_images = test_images[:,:,:, np.newaxis]\n",
    "test_loss, test_accuracy = model.evaluate(test_images, test_labels)\n",
    "print(f\"acuracia nos dados de teste: {test_accuracy:.2f}\")"
   ]
  }
 ],
 "metadata": {
  "language_info": {
   "name": "python"
  }
 },
 "nbformat": 4,
 "nbformat_minor": 2
}
