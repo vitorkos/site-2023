{
 "cells": [
  {
   "cell_type": "code",
   "execution_count": null,
   "metadata": {},
   "outputs": [],
   "source": [
    "#include libs\n",
    "\n",
    "!pip install tensorflow\n",
    "\n",
    "import matplotlib.pyplot as plt\n",
    "import tensorflow as tf\n",
    "import numpy as np\n",
    "from keras.callbacks import ModelCheckpoint\n",
    "from tensorflow.keras.models import load_model"
   ]
  },
  {
   "cell_type": "code",
   "execution_count": null,
   "metadata": {},
   "outputs": [],
   "source": [
    "# baixando o data set\n",
    "\n",
    "!wget https://storage.googleapis.com/mledu-datasets/cats_and_dogs_filtered.zip\n",
    "!unzip cats_and_dogs_filtered.zip\n",
    "!rm -rf cats_and_dogs_filtered.zip"
   ]
  },
  {
   "cell_type": "code",
   "execution_count": null,
   "metadata": {},
   "outputs": [],
   "source": [
    "#definindo o dataset\n",
    "IMAGE_SHAPE = (224, 224)\n",
    "image_shape = (224, 224, 3)\n",
    "\n",
    "##Define os diretórios para os dados de treinamento e validação\n",
    "TRAINING_DATA_DIR = 'cats_and_dogs_filtered/train/'\n",
    "VALID_DATA_DIR = 'cats_and_dogs_filtered/validation/'\n",
    "\n",
    "class_names = ['gato', 'cachorro']"
   ]
  },
  {
   "cell_type": "code",
   "execution_count": null,
   "metadata": {},
   "outputs": [],
   "source": [
    "#preparando o objeto para redimensionar os valores dos pixels das imagens entre 0 e 1\n",
    "\n",
    "datagen = tf.keras.preprocessing.image.ImageDataGenerator(\n",
    "    rescale=1./255\n",
    ")"
   ]
  },
  {
   "cell_type": "code",
   "execution_count": null,
   "metadata": {},
   "outputs": [],
   "source": [
    "#criando conjuntos de dados de treinamento e validação a partir dos diretorios\n",
    "\n",
    "train_generator = datagen.flow_from_directory(\n",
    "    VALID_DATA_DIR,\n",
    "    shuffle=True,\n",
    "    target_size=IMAGE_SHAPE\n",
    ")\n",
    "\n",
    "valid_generator = datagen.flow_from_directory(\n",
    "    VALID_DATA_DIR,\n",
    "    shuffle=False,\n",
    "    target_size=IMAGE_SHAPE\n",
    ")\n"
   ]
  },
  {
   "cell_type": "code",
   "execution_count": null,
   "metadata": {},
   "outputs": [],
   "source": [
    "#plotando algumas imagens do conjunto de treinamento\n",
    "\n",
    "def plot_dataset(dataset, num_images=5):\n",
    "  batch = dataset.next()\n",
    "\n",
    "  images = batch[0]\n",
    "  labels = batch[1]\n",
    "\n",
    "  random_indices = np.random.choice(len(images), num_images, replace=False)\n",
    "\n",
    "  for i, idx in enumerate(random_indices):\n",
    "    plt.subplot(1, num_images, i+1)\n",
    "    plt.imshow(images[idx])\n",
    "    plt.title(class_names[np.argmax(labels[idx])])\n",
    "    plt.axis('off')\n",
    "  plt.show()\n",
    "plot_dataset(train_generator)"
   ]
  },
  {
   "cell_type": "code",
   "execution_count": null,
   "metadata": {},
   "outputs": [],
   "source": [
    "# transfer learning\n",
    "\n",
    "model_transfer_learning = tf.keras.applications.MobileNetV2(input_shape =\n",
    "                                                            image_shape, include_top = False,\n",
    "                                                            weights = 'imagenet')\n",
    "model_transfer_learning.trainable = False\n",
    "model_transfer_learning.summary()"
   ]
  },
  {
   "cell_type": "code",
   "execution_count": null,
   "metadata": {},
   "outputs": [],
   "source": [
    "#montando o modelo\n",
    "\n",
    "batch_size = 32\n",
    "epochs = 10\n",
    "learning_rate = 0.0001\n",
    "\n",
    "## define o modelo da rede neural\n",
    "\n",
    "model = tf.keras.Sequential([\n",
    "    model_transfer_learning,\n",
    "    tf.keras.layers.GlobalAveragePooling2D(),\n",
    "    tf.keras.layers.Dropout(0.2),\n",
    "    tf.keras.layers.Dense(2, activation='softmax'),\n",
    "])"
   ]
  },
  {
   "cell_type": "code",
   "execution_count": null,
   "metadata": {},
   "outputs": [],
   "source": [
    "#compule o modelo com otimizador, função de perda e metricas\n",
    "\n",
    "model.compile(\n",
    "    optimizer=tf.keras.optimizers.Adam(learning_rate),\n",
    "    loss=tf.keras.losses.CategoricalCrossentropy(),\n",
    "    metrics=['accuracy']\n",
    ")\n",
    "\n",
    "print(model.summary())"
   ]
  },
  {
   "cell_type": "code",
   "execution_count": null,
   "metadata": {},
   "outputs": [],
   "source": [
    "# treinamento\n",
    "\n",
    "mc = ModelCheckpoint('model.h5', monitor='val-accuracy', mode='max', verbose=1, save_best_only=True)\n",
    "\n",
    "history = model.fit(train_generator, batch_size=batch_size, epochs=epochs, validation_data=valid_generator,\n",
    "                    callbacks=[mc], verbose=1)\n",
    "\n",
    "train_loss = history.history['loss']\n",
    "train_acc = history.history['accuracy']\n",
    "valid_loss = history.history['val_loss']\n",
    "valid_acc = history.history['val_accuracy']"
   ]
  }
 ],
 "metadata": {
  "language_info": {
   "name": "python"
  }
 },
 "nbformat": 4,
 "nbformat_minor": 2
}
