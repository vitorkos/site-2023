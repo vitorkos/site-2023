{
 "cells": [
  {
   "cell_type": "code",
   "execution_count": null,
   "metadata": {},
   "outputs": [],
   "source": [
    "#include libs\n",
    "\n",
    "!pip install tensorflow\n",
    "\n",
    "import matplotlib.pyplot as plt\n",
    "import tensorflow as tf\n",
    "import numpy as np\n",
    "from keras.callbacks import ModelCheckpoint\n",
    "from tensorflow.keras.models import load_model"
   ]
  },
  {
   "cell_type": "code",
   "execution_count": null,
   "metadata": {},
   "outputs": [],
   "source": [
    "# baixando o data set\n",
    "\n",
    "!wget https://storage.googleapis.com/mledu-datasets/cats_and_dogs_filtered.zip\n",
    "!unzip cats_and_dogs_filtered.zip\n",
    "!rm -rf cats_and_dogs_filtered.zip"
   ]
  },
  {
   "cell_type": "code",
   "execution_count": null,
   "metadata": {},
   "outputs": [],
   "source": [
    "#definindo o dataset\n",
    "IMAGE_SHAPE = (224, 224)\n",
    "image_shape = (224, 224, 3)\n",
    "\n",
    "##Define os diretórios para os dados de treinamento e validação\n",
    "TRAINING_DATA_DIR = 'cats_and_dogs_filtered/train/'\n",
    "VALID_DATA_DIR = 'cats_and_dogs_filtered/validation/'\n",
    "\n",
    "class_names = ['gato', 'cachorro']"
   ]
  },
  {
   "cell_type": "code",
   "execution_count": null,
   "metadata": {},
   "outputs": [],
   "source": [
    "#preparando o objeto para redimensionar os valores dos pixels das imagens entre 0 e 1\n",
    "\n",
    "datagen = tf.keras.preprocessing.image.ImageDataGenerator(\n",
    "    rescale=1./255\n",
    ")"
   ]
  }
 ],
 "metadata": {
  "language_info": {
   "name": "python"
  }
 },
 "nbformat": 4,
 "nbformat_minor": 2
}
